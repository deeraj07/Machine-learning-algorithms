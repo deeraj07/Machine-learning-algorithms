{
  "nbformat": 4,
  "nbformat_minor": 0,
  "metadata": {
    "colab": {
      "name": "Netflix Movies and TV Shows",
      "provenance": [],
      "collapsed_sections": []
    },
    "kernelspec": {
      "display_name": "Python 3",
      "name": "python3"
    }
  },
  "cells": [
    {
      "cell_type": "code",
      "metadata": {
        "id": "H5vVcbfJIJ_e"
      },
      "source": [
        "import pandas as pd\n",
        "df=pd.read_csv('/content/Netflix1_titles.csv')\n"
      ],
      "execution_count": 28,
      "outputs": []
    },
    {
      "cell_type": "code",
      "metadata": {
        "id": "1hAL_kfSImPq"
      },
      "source": [
        "from sklearn.preprocessing import LabelEncoder\n",
        "a=LabelEncoder()\n",
        "b=a.fit_transform(df['show_id'])\n",
        "c=df.drop('show_id',axis='columns')\n",
        "df['show_id']=b\n"
      ],
      "execution_count": 29,
      "outputs": []
    },
    {
      "cell_type": "code",
      "metadata": {
        "id": "gxatRzS_KIUG"
      },
      "source": [
        "a=LabelEncoder()\n",
        "b=a.fit_transform(df['type'])\n",
        "c=df.drop('type',axis='columns')\n",
        "df['type']=b\n"
      ],
      "execution_count": 30,
      "outputs": []
    },
    {
      "cell_type": "code",
      "metadata": {
        "id": "qjmMgdk1KXgW"
      },
      "source": [
        "df['country']=df['country'].fillna(df['country'].mode()[0])\n",
        "a=LabelEncoder()\n",
        "b=a.fit_transform(df['country'])\n",
        "c=df.drop('country',axis='columns')\n",
        "df['country']=b\n"
      ],
      "execution_count": 31,
      "outputs": []
    },
    {
      "cell_type": "code",
      "metadata": {
        "id": "7JOWi-erQAZD"
      },
      "source": [
        "df['rating']=df['rating'].fillna(df['rating'].mode()[0])\n",
        "a=LabelEncoder()\n",
        "b=a.fit_transform(df['rating'])\n",
        "c=df.drop('rating',axis='columns')\n",
        "df['rating']=b"
      ],
      "execution_count": 32,
      "outputs": []
    },
    {
      "cell_type": "code",
      "metadata": {
        "id": "_PXNxHUvMM-a"
      },
      "source": [
        "x=df.iloc[:,:-1].values\n",
        "y=df.iloc[:,-1].values\n"
      ],
      "execution_count": 33,
      "outputs": []
    },
    {
      "cell_type": "code",
      "metadata": {
        "colab": {
          "base_uri": "https://localhost:8080/"
        },
        "id": "uzBNf02ZT1W6",
        "outputId": "35d3c8a6-bd18-4e0e-c89d-cf43a1cccf32"
      },
      "source": [
        "x"
      ],
      "execution_count": 34,
      "outputs": [
        {
          "output_type": "execute_result",
          "data": {
            "text/plain": [
              "array([[   0,    1,   39, 2020],\n",
              "       [1111,    0,  308, 2016],\n",
              "       [2222,    0,  379, 2011],\n",
              "       ...,\n",
              "       [7539,    0,  549, 2019],\n",
              "       [7540,    1,   12, 2019],\n",
              "       [7541,    0,  473, 2019]])"
            ]
          },
          "metadata": {},
          "execution_count": 34
        }
      ]
    },
    {
      "cell_type": "code",
      "metadata": {
        "colab": {
          "base_uri": "https://localhost:8080/"
        },
        "id": "8fBjK95KT4tp",
        "outputId": "29848788-84a8-4692-cab6-68e0718b5a73"
      },
      "source": [
        "y"
      ],
      "execution_count": 35,
      "outputs": [
        {
          "output_type": "execute_result",
          "data": {
            "text/plain": [
              "array([8, 8, 5, ..., 8, 9, 8])"
            ]
          },
          "metadata": {},
          "execution_count": 35
        }
      ]
    },
    {
      "cell_type": "code",
      "metadata": {
        "id": "-xv_Y7lmMhEr"
      },
      "source": [
        "from sklearn.model_selection import train_test_split\n",
        "x_train,x_test,y_train,y_test=train_test_split(x,y,test_size=0.2,random_state=0)"
      ],
      "execution_count": 36,
      "outputs": []
    },
    {
      "cell_type": "code",
      "metadata": {
        "id": "MNLx50poOimW"
      },
      "source": [
        "from sklearn.neighbors import KNeighborsClassifier\n",
        "knn=KNeighborsClassifier(n_neighbors=50,metric=\"euclidean\")"
      ],
      "execution_count": 37,
      "outputs": []
    },
    {
      "cell_type": "code",
      "metadata": {
        "id": "BvSvO8l7OsDX"
      },
      "source": [
        "knn.fit(x_train,y_train)\n",
        "y_pred=knn.predict(x_test)\n"
      ],
      "execution_count": 38,
      "outputs": []
    },
    {
      "cell_type": "code",
      "metadata": {
        "colab": {
          "base_uri": "https://localhost:8080/"
        },
        "id": "JXvjmwrgQY-J",
        "outputId": "26319740-1e25-4848-bd6a-0f058f69e30d"
      },
      "source": [
        "from sklearn.metrics import confusion_matrix,accuracy_score\n",
        "print(confusion_matrix(y_test,y_pred))\n",
        "print(\"Accuracy\",accuracy_score(y_test,y_pred))"
      ],
      "execution_count": 39,
      "outputs": [
        {
          "output_type": "stream",
          "name": "stdout",
          "text": [
            "[[  0   0   0   0   0   0   0   0   4   0   0   1   0   0]\n",
            " [  0   0   0   0   0   0   0   0   1   0   0   0   0   0]\n",
            " [  0   0   0   0   0   0   1   0  15   0   0   0   0   0]\n",
            " [  0   0   0   0   0   0   6   0  34   0   1   0   0   0]\n",
            " [  0   0   0   0   0   1   7   0  72   0   0   4   0   0]\n",
            " [  0   0   0   0   0   3  14   0 117   1   2   1   0   0]\n",
            " [  0   0   0   0   0   2 141   0 249   0   1   1   0   0]\n",
            " [  0   0   0   0   0   0   7   0  32   0   0   1   0   0]\n",
            " [  0   0   0   0   0   4 133   0 430   0   2   5   0   0]\n",
            " [  0   0   0   0   0   1  42   0 101   0   1   3   0   0]\n",
            " [  0   0   0   0   0   0   4   0  51   0   0   2   0   0]\n",
            " [  0   0   0   0   0   2   7   0  41   0   1   7   0   0]\n",
            " [  0   0   0   0   0   0   0   0   1   0   0   0   0   0]\n",
            " [  0   0   0   0   0   0   0   0   1   0   0   0   0   0]]\n",
            "Accuracy 0.37291399229781774\n"
          ]
        }
      ]
    }
  ]
}